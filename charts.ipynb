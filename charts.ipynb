{
 "cells": [
  {
   "cell_type": "code",
   "execution_count": null,
   "id": "brilliant-reply",
   "metadata": {},
   "outputs": [],
   "source": [
    "pip install scikit-learn"
   ]
  },
  {
   "cell_type": "code",
   "execution_count": null,
   "id": "continuous-empire",
   "metadata": {},
   "outputs": [],
   "source": [
    "pip install yellowbrick"
   ]
  },
  {
   "cell_type": "code",
   "execution_count": null,
   "id": "chronic-division",
   "metadata": {
    "pycharm": {
     "name": "#%%\n"
    }
   },
   "outputs": [],
   "source": [
    "pip install scipy"
   ]
  },
  {
   "cell_type": "code",
   "execution_count": null,
   "id": "dimensional-lyric",
   "metadata": {
    "pycharm": {
     "name": "#%%\n"
    }
   },
   "outputs": [],
   "source": [
    "pip install yellowbrick"
   ]
  },
  {
   "cell_type": "code",
   "execution_count": null,
   "id": "talented-medication",
   "metadata": {
    "pycharm": {
     "name": "#%%\n"
    }
   },
   "outputs": [],
   "source": [
    "pip install sklearn"
   ]
  },
  {
   "cell_type": "code",
   "execution_count": null,
   "id": "fiscal-accountability",
   "metadata": {
    "pycharm": {
     "name": "#%%\n"
    }
   },
   "outputs": [],
   "source": [
    "pip install hazm"
   ]
  },
  {
   "cell_type": "code",
   "execution_count": null,
   "id": "simplified-harrison",
   "metadata": {},
   "outputs": [],
   "source": [
    "pip install gensim"
   ]
  },
  {
   "cell_type": "code",
   "execution_count": null,
   "id": "acknowledged-dinner",
   "metadata": {},
   "outputs": [],
   "source": [
    "pip install tqdm"
   ]
  },
  {
   "cell_type": "code",
   "execution_count": null,
   "id": "removable-crisis",
   "metadata": {},
   "outputs": [],
   "source": [
    "pip install bs4"
   ]
  },
  {
   "cell_type": "code",
   "execution_count": null,
   "id": "greek-mozambique",
   "metadata": {},
   "outputs": [],
   "source": [
    "pip install selenium"
   ]
  },
  {
   "cell_type": "code",
   "execution_count": 1,
   "id": "under-porcelain",
   "metadata": {
    "pycharm": {
     "name": "#%%\n"
    }
   },
   "outputs": [],
   "source": [
    "import seaborn as sns\n",
    "\n",
    "from yellowbrick.cluster import kelbow_visualizer, intercluster_distance\n",
    "from sklearn.cluster import KMeans\n",
    "from sklearn.decomposition import PCA\n",
    "\n",
    "\n",
    "# from .preprocess import *\n",
    "from phase3.clustering import return_clustered_csv, kmeans, load_data, vectorize, get_res, grid_search, GMM, hierarchical, return_clustered_csv_gmm\n",
    "\n",
    "sns.set_theme()\n",
    "sns.set_style(\"dark\")"
   ]
  },
  {
   "cell_type": "code",
   "execution_count": 2,
   "id": "naval-elevation",
   "metadata": {},
   "outputs": [],
   "source": [
    "# loading data\n",
    "data, major_labels, minor_labels = load_data(stem=False, lemmatize=True, remove_conjunctions=True)\n",
    "tfidf, w2v = vectorize(data, w2v_options=dict(size=64, iter=128, min_count=2))\n",
    "pca_tfidf = PCA(64, random_state=666).fit_transform(tfidf.toarray())"
   ]
  },
  {
   "cell_type": "code",
   "execution_count": null,
   "id": "concrete-cycle",
   "metadata": {},
   "outputs": [],
   "source": [
    "get_res(return_clustered_csv(data, kmeans, pca_tfidf, w2v, options=dict(random_state=666), save=True), data=data)"
   ]
  },
  {
   "cell_type": "code",
   "execution_count": null,
   "id": "descending-dealing",
   "metadata": {},
   "outputs": [],
   "source": [
    "get_res(hier_res=return_clustered_csv(\n",
    "    data,\n",
    "    hierarchical,\n",
    "    tfidf=pca_tfidf, w2v=w2v,\n",
    "    options=dict(n_components=len(major_labels)),\n",
    "    save=True), data=data)"
   ]
  },
  {
   "cell_type": "code",
   "execution_count": 3,
   "id": "balanced-transformation",
   "metadata": {},
   "outputs": [
    {
     "name": "stderr",
     "output_type": "stream",
     "text": [
      "100%|██████████| 144/144 [02:14<00:00,  1.07it/s]\n"
     ]
    }
   ],
   "source": [
    "variables = dict(n_components=list(range(4,16)), max_iter=[100, 250, 500], covariance_type=['spherical', 'tied', 'diag', 'full'])\n",
    "fixed_vars = dict(random_state=666)\n",
    "res = grid_search(GMM, data=data, tfidf=pca_tfidf, w2v=w2v, variables=variables, fixed_params=fixed_vars)"
   ]
  },
  {
   "cell_type": "code",
   "execution_count": 5,
   "id": "intelligent-water",
   "metadata": {},
   "outputs": [],
   "source": [
    "ftfidf = res[(res['metric'] == 'adjusted_mutual_info') & (res['n_components'] == len(major_labels)) &\n",
    "             (res['vectorization'] == 'tf-idf')]\n",
    "_ = ftfidf[ftfidf['score'] == ftfidf['score'].max()]"
   ]
  },
  {
   "cell_type": "code",
   "execution_count": null,
   "id": "familiar-jewelry",
   "metadata": {},
   "outputs": [],
   "source": []
  },
  {
   "cell_type": "code",
   "execution_count": null,
   "id": "lonely-driving",
   "metadata": {},
   "outputs": [],
   "source": [
    "get_res(gmm_res=return_clustered_csv_gmm(\n",
    "    data, \n",
    "    GMM, \n",
    "    tfidf=pca_tfidf, w2v=w2v, \n",
    "    options=dict(n_components=len(major_labels), random_state=666), \n",
    "    options_tfidf=dict(covariance_type='full', max_iter=500),\n",
    "    options_w2v=dict(covariance_type='full', max_iter=500),\n",
    "    save=True), data=data)"
   ]
  },
  {
   "cell_type": "code",
   "execution_count": null,
   "id": "cooked-findings",
   "metadata": {},
   "outputs": [],
   "source": []
  }
 ],
 "metadata": {
  "kernelspec": {
   "display_name": "Python 3",
   "language": "python",
   "name": "python3"
  },
  "language_info": {
   "codemirror_mode": {
    "name": "ipython",
    "version": 3
   },
   "file_extension": ".py",
   "mimetype": "text/x-python",
   "name": "python",
   "nbconvert_exporter": "python",
   "pygments_lexer": "ipython3",
   "version": "3.9.1"
  }
 },
 "nbformat": 4,
 "nbformat_minor": 5
}
