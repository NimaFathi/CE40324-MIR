{
 "cells": [
  {
   "cell_type": "code",
   "execution_count": null,
   "id": "brilliant-reply",
   "metadata": {},
   "outputs": [],
   "source": [
    "pip install scikit-learn"
   ]
  },
  {
   "cell_type": "code",
   "execution_count": null,
   "id": "continuous-empire",
   "metadata": {},
   "outputs": [],
   "source": [
    "pip install yellowbrick"
   ]
  },
  {
   "cell_type": "code",
   "execution_count": null,
   "id": "chronic-division",
   "metadata": {
    "pycharm": {
     "name": "#%%\n"
    }
   },
   "outputs": [],
   "source": [
    "pip install scipy"
   ]
  },
  {
   "cell_type": "code",
   "execution_count": null,
   "id": "dimensional-lyric",
   "metadata": {
    "pycharm": {
     "name": "#%%\n"
    }
   },
   "outputs": [],
   "source": [
    "pip install yellowbrick"
   ]
  },
  {
   "cell_type": "code",
   "execution_count": null,
   "id": "talented-medication",
   "metadata": {
    "pycharm": {
     "name": "#%%\n"
    }
   },
   "outputs": [],
   "source": [
    "pip install sklearn"
   ]
  },
  {
   "cell_type": "code",
   "execution_count": null,
   "id": "fiscal-accountability",
   "metadata": {
    "pycharm": {
     "name": "#%%\n"
    }
   },
   "outputs": [],
   "source": [
    "pip install hazm"
   ]
  },
  {
   "cell_type": "code",
   "execution_count": null,
   "id": "simplified-harrison",
   "metadata": {},
   "outputs": [],
   "source": [
    "pip install gensim"
   ]
  },
  {
   "cell_type": "code",
   "execution_count": null,
   "id": "acknowledged-dinner",
   "metadata": {},
   "outputs": [],
   "source": [
    "pip install tqdm"
   ]
  },
  {
   "cell_type": "code",
   "execution_count": null,
   "id": "removable-crisis",
   "metadata": {},
   "outputs": [],
   "source": [
    "pip install bs4"
   ]
  },
  {
   "cell_type": "code",
   "execution_count": null,
   "id": "greek-mozambique",
   "metadata": {},
   "outputs": [],
   "source": [
    "pip install selenium"
   ]
  },
  {
   "cell_type": "code",
   "execution_count": 1,
   "id": "under-porcelain",
   "metadata": {
    "pycharm": {
     "name": "#%%\n"
    }
   },
   "outputs": [],
   "source": [
    "import seaborn as sns\n",
    "\n",
    "from yellowbrick.cluster import kelbow_visualizer, intercluster_distance\n",
    "from sklearn.cluster import KMeans\n",
    "from sklearn.decomposition import PCA\n",
    "\n",
    "\n",
    "# from .preprocess import *\n",
    "from phase3.clustering import return_clustered_csv, kmeans, load_data, vectorize, get_res, grid_search, GMM, hierarchical, return_clustered_csv_gmm\n",
    "\n",
    "sns.set_theme()\n",
    "sns.set_style(\"dark\")"
   ]
  },
  {
   "cell_type": "code",
   "execution_count": 2,
   "id": "naval-elevation",
   "metadata": {},
   "outputs": [],
   "source": [
    "# loading data\n",
    "data, major_labels, minor_labels = load_data(stem=False, lemmatize=True, remove_conjunctions=True)\n",
    "tfidf, w2v = vectorize(data, w2v_options=dict(size=64, iter=128, min_count=2))\n",
    "pca_tfidf = PCA(64, random_state=666).fit_transform(tfidf.toarray())"
   ]
  },
  {
   "cell_type": "code",
   "execution_count": null,
   "id": "concrete-cycle",
   "metadata": {},
   "outputs": [],
   "source": [
    "get_res(return_clustered_csv(data, kmeans, pca_tfidf, w2v, options=dict(random_state=666), save=True), data=data)"
   ]
  },
  {
   "cell_type": "code",
   "execution_count": null,
   "id": "genetic-wellington",
   "metadata": {},
   "outputs": [],
   "source": [
    "get_res(hier_res=return_clustered_csv(\n",
    "    data,\n",
    "    hierarchical,\n",
    "    tfidf=pca_tfidf, w2v=w2v,\n",
    "    options=dict(n_components=len(major_labels)),\n",
    "    save=True), data=data)"
   ]
  },
  {
   "cell_type": "code",
   "execution_count": 5,
   "id": "apart-calgary",
   "metadata": {},
   "outputs": [
    {
     "name": "stderr",
     "output_type": "stream",
     "text": [
      "  1%|          | 1/144 [00:00<00:33,  4.23it/s]"
     ]
    },
    {
     "name": "stdout",
     "output_type": "stream",
     "text": [
      "ERROR OCCURRED... ANS NOT UPDATED!\n",
      "\n",
      "ERROR OCCURRED... ANS NOT UPDATED!\n",
      "\n"
     ]
    },
    {
     "name": "stderr",
     "output_type": "stream",
     "text": [
      "\r",
      "  1%|▏         | 2/144 [00:00<00:45,  3.15it/s]"
     ]
    },
    {
     "name": "stdout",
     "output_type": "stream",
     "text": [
      "ERROR OCCURRED... ANS NOT UPDATED!\n",
      "\n",
      "ERROR OCCURRED... ANS NOT UPDATED!\n",
      "\n"
     ]
    },
    {
     "name": "stderr",
     "output_type": "stream",
     "text": [
      "\r",
      "  2%|▏         | 3/144 [00:00<00:39,  3.57it/s]"
     ]
    },
    {
     "name": "stdout",
     "output_type": "stream",
     "text": [
      "ERROR OCCURRED... ANS NOT UPDATED!\n",
      "\n",
      "ERROR OCCURRED... ANS NOT UPDATED!\n",
      "\n",
      "ERROR OCCURRED... ANS NOT UPDATED!\n",
      "\n"
     ]
    },
    {
     "name": "stderr",
     "output_type": "stream",
     "text": [
      "  3%|▎         | 5/144 [00:01<00:54,  2.55it/s]"
     ]
    },
    {
     "name": "stdout",
     "output_type": "stream",
     "text": [
      "ERROR OCCURRED... ANS NOT UPDATED!\n",
      "\n",
      "ERROR OCCURRED... ANS NOT UPDATED!\n",
      "\n",
      "ERROR OCCURRED... ANS NOT UPDATED!\n",
      "\n"
     ]
    },
    {
     "name": "stderr",
     "output_type": "stream",
     "text": [
      "\r",
      "  4%|▍         | 6/144 [00:02<00:54,  2.53it/s]"
     ]
    },
    {
     "name": "stdout",
     "output_type": "stream",
     "text": [
      "ERROR OCCURRED... ANS NOT UPDATED!\n",
      "\n",
      "ERROR OCCURRED... ANS NOT UPDATED!\n",
      "\n"
     ]
    },
    {
     "name": "stderr",
     "output_type": "stream",
     "text": [
      "\r",
      "  5%|▍         | 7/144 [00:02<00:45,  3.03it/s]"
     ]
    },
    {
     "name": "stdout",
     "output_type": "stream",
     "text": [
      "ERROR OCCURRED... ANS NOT UPDATED!\n",
      "\n",
      "ERROR OCCURRED... ANS NOT UPDATED!\n",
      "\n",
      "ERROR OCCURRED... ANS NOT UPDATED!\n",
      "\n"
     ]
    },
    {
     "name": "stderr",
     "output_type": "stream",
     "text": [
      "  6%|▋         | 9/144 [00:03<00:51,  2.63it/s]"
     ]
    },
    {
     "name": "stdout",
     "output_type": "stream",
     "text": [
      "ERROR OCCURRED... ANS NOT UPDATED!\n",
      "\n",
      "ERROR OCCURRED... ANS NOT UPDATED!\n",
      "\n",
      "ERROR OCCURRED... ANS NOT UPDATED!\n",
      "\n"
     ]
    },
    {
     "name": "stderr",
     "output_type": "stream",
     "text": [
      "\r",
      "  7%|▋         | 10/144 [00:03<00:50,  2.66it/s]"
     ]
    },
    {
     "name": "stdout",
     "output_type": "stream",
     "text": [
      "ERROR OCCURRED... ANS NOT UPDATED!\n",
      "\n",
      "ERROR OCCURRED... ANS NOT UPDATED!\n",
      "\n"
     ]
    },
    {
     "name": "stderr",
     "output_type": "stream",
     "text": [
      "\r",
      "  8%|▊         | 11/144 [00:04<00:43,  3.02it/s]"
     ]
    },
    {
     "name": "stdout",
     "output_type": "stream",
     "text": [
      "ERROR OCCURRED... ANS NOT UPDATED!\n",
      "\n",
      "ERROR OCCURRED... ANS NOT UPDATED!\n",
      "\n",
      "ERROR OCCURRED... ANS NOT UPDATED!\n",
      "\n"
     ]
    },
    {
     "name": "stderr",
     "output_type": "stream",
     "text": [
      "  9%|▉         | 13/144 [00:05<00:58,  2.24it/s]"
     ]
    },
    {
     "name": "stdout",
     "output_type": "stream",
     "text": [
      "ERROR OCCURRED... ANS NOT UPDATED!\n",
      "\n",
      "ERROR OCCURRED... ANS NOT UPDATED!\n",
      "\n",
      "ERROR OCCURRED... ANS NOT UPDATED!\n",
      "\n",
      "ERROR OCCURRED... ANS NOT UPDATED!\n",
      "\n"
     ]
    },
    {
     "name": "stderr",
     "output_type": "stream",
     "text": [
      "\r",
      " 10%|▉         | 14/144 [00:06<01:15,  1.72it/s]"
     ]
    },
    {
     "name": "stdout",
     "output_type": "stream",
     "text": [
      "ERROR OCCURRED... ANS NOT UPDATED!\n",
      "\n",
      "ERROR OCCURRED... ANS NOT UPDATED!\n",
      "\n"
     ]
    },
    {
     "name": "stderr",
     "output_type": "stream",
     "text": [
      "\r",
      " 10%|█         | 15/144 [00:06<01:00,  2.13it/s]"
     ]
    },
    {
     "name": "stdout",
     "output_type": "stream",
     "text": [
      "ERROR OCCURRED... ANS NOT UPDATED!\n",
      "\n",
      "ERROR OCCURRED... ANS NOT UPDATED!\n",
      "\n"
     ]
    },
    {
     "name": "stderr",
     "output_type": "stream",
     "text": [
      "\r",
      " 11%|█         | 16/144 [00:07<01:10,  1.82it/s]"
     ]
    },
    {
     "name": "stdout",
     "output_type": "stream",
     "text": [
      "ERROR OCCURRED... ANS NOT UPDATED!\n",
      "\n"
     ]
    },
    {
     "name": "stderr",
     "output_type": "stream",
     "text": [
      "\r",
      " 12%|█▏        | 17/144 [00:07<01:02,  2.02it/s]"
     ]
    },
    {
     "name": "stdout",
     "output_type": "stream",
     "text": [
      "ERROR OCCURRED... ANS NOT UPDATED!\n",
      "\n",
      "ERROR OCCURRED... ANS NOT UPDATED!\n",
      "\n",
      "ERROR OCCURRED... ANS NOT UPDATED!\n",
      "\n"
     ]
    },
    {
     "name": "stderr",
     "output_type": "stream",
     "text": [
      "\r",
      " 12%|█▎        | 18/144 [00:08<01:15,  1.66it/s]"
     ]
    },
    {
     "name": "stdout",
     "output_type": "stream",
     "text": [
      "ERROR OCCURRED... ANS NOT UPDATED!\n",
      "\n",
      "ERROR OCCURRED... ANS NOT UPDATED!\n",
      "\n"
     ]
    },
    {
     "name": "stderr",
     "output_type": "stream",
     "text": [
      "\r",
      " 13%|█▎        | 19/144 [00:08<01:01,  2.04it/s]"
     ]
    },
    {
     "name": "stdout",
     "output_type": "stream",
     "text": [
      "ERROR OCCURRED... ANS NOT UPDATED!\n",
      "\n",
      "ERROR OCCURRED... ANS NOT UPDATED!\n",
      "\n"
     ]
    },
    {
     "name": "stderr",
     "output_type": "stream",
     "text": [
      "\r",
      " 14%|█▍        | 20/144 [00:09<01:21,  1.53it/s]"
     ]
    },
    {
     "name": "stdout",
     "output_type": "stream",
     "text": [
      "ERROR OCCURRED... ANS NOT UPDATED!\n",
      "\n"
     ]
    },
    {
     "name": "stderr",
     "output_type": "stream",
     "text": [
      "\r",
      " 15%|█▍        | 21/144 [00:09<01:07,  1.82it/s]"
     ]
    },
    {
     "name": "stdout",
     "output_type": "stream",
     "text": [
      "ERROR OCCURRED... ANS NOT UPDATED!\n",
      "\n",
      "ERROR OCCURRED... ANS NOT UPDATED!\n",
      "\n",
      "ERROR OCCURRED... ANS NOT UPDATED!\n",
      "\n"
     ]
    },
    {
     "name": "stderr",
     "output_type": "stream",
     "text": [
      "\r",
      " 15%|█▌        | 22/144 [00:10<01:22,  1.48it/s]"
     ]
    },
    {
     "name": "stdout",
     "output_type": "stream",
     "text": [
      "ERROR OCCURRED... ANS NOT UPDATED!\n",
      "\n",
      "ERROR OCCURRED... ANS NOT UPDATED!\n",
      "\n"
     ]
    },
    {
     "name": "stderr",
     "output_type": "stream",
     "text": [
      "\r",
      " 16%|█▌        | 23/144 [00:11<01:05,  1.84it/s]"
     ]
    },
    {
     "name": "stdout",
     "output_type": "stream",
     "text": [
      "ERROR OCCURRED... ANS NOT UPDATED!\n",
      "\n",
      "ERROR OCCURRED... ANS NOT UPDATED!\n",
      "\n"
     ]
    },
    {
     "name": "stderr",
     "output_type": "stream",
     "text": [
      " 17%|█▋        | 25/144 [00:12<01:02,  1.89it/s]"
     ]
    },
    {
     "name": "stdout",
     "output_type": "stream",
     "text": [
      "ERROR OCCURRED... ANS NOT UPDATED!\n",
      "\n",
      "ERROR OCCURRED... ANS NOT UPDATED!\n",
      "\n",
      "ERROR OCCURRED... ANS NOT UPDATED!\n",
      "\n",
      "ERROR OCCURRED... ANS NOT UPDATED!\n",
      "\n"
     ]
    },
    {
     "name": "stderr",
     "output_type": "stream",
     "text": [
      " 19%|█▉        | 27/144 [00:13<00:57,  2.03it/s]"
     ]
    },
    {
     "name": "stdout",
     "output_type": "stream",
     "text": [
      "ERROR OCCURRED... ANS NOT UPDATED!\n",
      "\n",
      "ERROR OCCURRED... ANS NOT UPDATED!\n",
      "\n",
      "ERROR OCCURRED... ANS NOT UPDATED!\n",
      "\n",
      "ERROR OCCURRED... ANS NOT UPDATED!\n",
      "\n"
     ]
    },
    {
     "name": "stderr",
     "output_type": "stream",
     "text": [
      " 20%|██        | 29/144 [00:14<00:53,  2.16it/s]"
     ]
    },
    {
     "name": "stdout",
     "output_type": "stream",
     "text": [
      "ERROR OCCURRED... ANS NOT UPDATED!\n",
      "\n",
      "ERROR OCCURRED... ANS NOT UPDATED!\n",
      "\n",
      "ERROR OCCURRED... ANS NOT UPDATED!\n",
      "\n",
      "ERROR OCCURRED... ANS NOT UPDATED!\n",
      "\n"
     ]
    },
    {
     "name": "stderr",
     "output_type": "stream",
     "text": [
      " 22%|██▏       | 31/144 [00:15<00:50,  2.22it/s]"
     ]
    },
    {
     "name": "stdout",
     "output_type": "stream",
     "text": [
      "ERROR OCCURRED... ANS NOT UPDATED!\n",
      "\n",
      "ERROR OCCURRED... ANS NOT UPDATED!\n",
      "\n",
      "ERROR OCCURRED... ANS NOT UPDATED!\n",
      "\n",
      "ERROR OCCURRED... ANS NOT UPDATED!\n",
      "\n"
     ]
    },
    {
     "name": "stderr",
     "output_type": "stream",
     "text": [
      " 23%|██▎       | 33/144 [00:16<00:50,  2.20it/s]"
     ]
    },
    {
     "name": "stdout",
     "output_type": "stream",
     "text": [
      "ERROR OCCURRED... ANS NOT UPDATED!\n",
      "\n",
      "ERROR OCCURRED... ANS NOT UPDATED!\n",
      "\n",
      "ERROR OCCURRED... ANS NOT UPDATED!\n",
      "\n",
      "ERROR OCCURRED... ANS NOT UPDATED!\n",
      "\n"
     ]
    },
    {
     "name": "stderr",
     "output_type": "stream",
     "text": [
      "\r",
      " 24%|██▎       | 34/144 [00:17<01:11,  1.55it/s]"
     ]
    },
    {
     "name": "stdout",
     "output_type": "stream",
     "text": [
      "ERROR OCCURRED... ANS NOT UPDATED!\n",
      "\n",
      "ERROR OCCURRED... ANS NOT UPDATED!\n",
      "\n"
     ]
    },
    {
     "name": "stderr",
     "output_type": "stream",
     "text": [
      "\r",
      " 24%|██▍       | 35/144 [00:17<00:57,  1.89it/s]"
     ]
    },
    {
     "name": "stdout",
     "output_type": "stream",
     "text": [
      "ERROR OCCURRED... ANS NOT UPDATED!\n",
      "\n",
      "ERROR OCCURRED... ANS NOT UPDATED!\n",
      "\n"
     ]
    },
    {
     "name": "stderr",
     "output_type": "stream",
     "text": [
      " 26%|██▌       | 37/144 [00:18<00:52,  2.02it/s]"
     ]
    },
    {
     "name": "stdout",
     "output_type": "stream",
     "text": [
      "ERROR OCCURRED... ANS NOT UPDATED!\n",
      "\n",
      "ERROR OCCURRED... ANS NOT UPDATED!\n",
      "\n",
      "ERROR OCCURRED... ANS NOT UPDATED!\n",
      "\n",
      "ERROR OCCURRED... ANS NOT UPDATED!\n",
      "\n"
     ]
    },
    {
     "name": "stderr",
     "output_type": "stream",
     "text": [
      " 27%|██▋       | 39/144 [00:19<00:48,  2.17it/s]"
     ]
    },
    {
     "name": "stdout",
     "output_type": "stream",
     "text": [
      "ERROR OCCURRED... ANS NOT UPDATED!\n",
      "\n",
      "ERROR OCCURRED... ANS NOT UPDATED!\n",
      "\n",
      "ERROR OCCURRED... ANS NOT UPDATED!\n",
      "\n",
      "ERROR OCCURRED... ANS NOT UPDATED!\n",
      "\n"
     ]
    },
    {
     "name": "stderr",
     "output_type": "stream",
     "text": [
      " 28%|██▊       | 41/144 [00:21<01:01,  1.66it/s]"
     ]
    },
    {
     "name": "stdout",
     "output_type": "stream",
     "text": [
      "ERROR OCCURRED... ANS NOT UPDATED!\n",
      "\n",
      "ERROR OCCURRED... ANS NOT UPDATED!\n",
      "\n",
      "ERROR OCCURRED... ANS NOT UPDATED!\n",
      "\n",
      "ERROR OCCURRED... ANS NOT UPDATED!\n",
      "\n"
     ]
    },
    {
     "name": "stderr",
     "output_type": "stream",
     "text": [
      "\r",
      " 29%|██▉       | 42/144 [00:22<01:06,  1.52it/s]"
     ]
    },
    {
     "name": "stdout",
     "output_type": "stream",
     "text": [
      "ERROR OCCURRED... ANS NOT UPDATED!\n",
      "\n",
      "ERROR OCCURRED... ANS NOT UPDATED!\n",
      "\n"
     ]
    },
    {
     "name": "stderr",
     "output_type": "stream",
     "text": [
      "\r",
      " 30%|██▉       | 43/144 [00:22<00:53,  1.88it/s]"
     ]
    },
    {
     "name": "stdout",
     "output_type": "stream",
     "text": [
      "ERROR OCCURRED... ANS NOT UPDATED!\n",
      "\n",
      "ERROR OCCURRED... ANS NOT UPDATED!\n",
      "\n"
     ]
    },
    {
     "name": "stderr",
     "output_type": "stream",
     "text": [
      " 31%|███▏      | 45/144 [00:24<01:01,  1.61it/s]"
     ]
    },
    {
     "name": "stdout",
     "output_type": "stream",
     "text": [
      "ERROR OCCURRED... ANS NOT UPDATED!\n",
      "\n",
      "ERROR OCCURRED... ANS NOT UPDATED!\n",
      "\n",
      "ERROR OCCURRED... ANS NOT UPDATED!\n",
      "\n",
      "ERROR OCCURRED... ANS NOT UPDATED!\n",
      "\n"
     ]
    },
    {
     "name": "stderr",
     "output_type": "stream",
     "text": [
      "\r",
      " 32%|███▏      | 46/144 [00:25<01:18,  1.25it/s]"
     ]
    },
    {
     "name": "stdout",
     "output_type": "stream",
     "text": [
      "ERROR OCCURRED... ANS NOT UPDATED!\n",
      "\n"
     ]
    },
    {
     "name": "stderr",
     "output_type": "stream",
     "text": [
      "\r",
      " 33%|███▎      | 47/144 [00:25<01:05,  1.48it/s]"
     ]
    },
    {
     "name": "stdout",
     "output_type": "stream",
     "text": [
      "ERROR OCCURRED... ANS NOT UPDATED!\n",
      "\n",
      "ERROR OCCURRED... ANS NOT UPDATED!\n",
      "\n",
      "ERROR OCCURRED... ANS NOT UPDATED!\n",
      "\n"
     ]
    },
    {
     "name": "stderr",
     "output_type": "stream",
     "text": [
      "\r",
      " 33%|███▎      | 48/144 [00:28<01:59,  1.24s/it]"
     ]
    },
    {
     "name": "stdout",
     "output_type": "stream",
     "text": [
      "ERROR OCCURRED... ANS NOT UPDATED!\n",
      "\n"
     ]
    },
    {
     "name": "stderr",
     "output_type": "stream",
     "text": [
      "\r",
      " 34%|███▍      | 49/144 [00:28<01:31,  1.03it/s]"
     ]
    },
    {
     "name": "stdout",
     "output_type": "stream",
     "text": [
      "ERROR OCCURRED... ANS NOT UPDATED!\n",
      "\n",
      "ERROR OCCURRED... ANS NOT UPDATED!\n",
      "\n",
      "ERROR OCCURRED... ANS NOT UPDATED!\n",
      "\n"
     ]
    },
    {
     "name": "stderr",
     "output_type": "stream",
     "text": [
      "\r",
      " 35%|███▍      | 50/144 [00:30<01:43,  1.10s/it]"
     ]
    },
    {
     "name": "stdout",
     "output_type": "stream",
     "text": [
      "ERROR OCCURRED... ANS NOT UPDATED!\n",
      "\n",
      "ERROR OCCURRED... ANS NOT UPDATED!\n",
      "\n"
     ]
    },
    {
     "name": "stderr",
     "output_type": "stream",
     "text": [
      "\r",
      " 35%|███▌      | 51/144 [00:30<01:17,  1.20it/s]"
     ]
    },
    {
     "name": "stdout",
     "output_type": "stream",
     "text": [
      "ERROR OCCURRED... ANS NOT UPDATED!\n",
      "\n",
      "ERROR OCCURRED... ANS NOT UPDATED!\n",
      "\n"
     ]
    },
    {
     "name": "stderr",
     "output_type": "stream",
     "text": [
      " 37%|███▋      | 53/144 [00:32<01:14,  1.22it/s]"
     ]
    },
    {
     "name": "stdout",
     "output_type": "stream",
     "text": [
      "ERROR OCCURRED... ANS NOT UPDATED!\n",
      "\n",
      "ERROR OCCURRED... ANS NOT UPDATED!\n",
      "\n",
      "ERROR OCCURRED... ANS NOT UPDATED!\n",
      "\n",
      "ERROR OCCURRED... ANS NOT UPDATED!\n",
      "\n"
     ]
    },
    {
     "name": "stderr",
     "output_type": "stream",
     "text": [
      "\r",
      " 38%|███▊      | 54/144 [00:33<01:21,  1.11it/s]"
     ]
    },
    {
     "name": "stdout",
     "output_type": "stream",
     "text": [
      "ERROR OCCURRED... ANS NOT UPDATED!\n",
      "\n",
      "ERROR OCCURRED... ANS NOT UPDATED!\n",
      "\n"
     ]
    },
    {
     "name": "stderr",
     "output_type": "stream",
     "text": [
      "\r",
      " 38%|███▊      | 55/144 [00:33<01:02,  1.43it/s]"
     ]
    },
    {
     "name": "stdout",
     "output_type": "stream",
     "text": [
      "ERROR OCCURRED... ANS NOT UPDATED!\n",
      "\n",
      "ERROR OCCURRED... ANS NOT UPDATED!\n",
      "\n"
     ]
    },
    {
     "name": "stderr",
     "output_type": "stream",
     "text": [
      "\r",
      " 39%|███▉      | 56/144 [00:35<01:46,  1.21s/it]"
     ]
    },
    {
     "name": "stdout",
     "output_type": "stream",
     "text": [
      "ERROR OCCURRED... ANS NOT UPDATED!\n",
      "\n"
     ]
    },
    {
     "name": "stderr",
     "output_type": "stream",
     "text": [
      "\r",
      " 40%|███▉      | 57/144 [00:36<01:22,  1.05it/s]"
     ]
    },
    {
     "name": "stdout",
     "output_type": "stream",
     "text": [
      "ERROR OCCURRED... ANS NOT UPDATED!\n",
      "\n",
      "ERROR OCCURRED... ANS NOT UPDATED!\n",
      "\n",
      "ERROR OCCURRED... ANS NOT UPDATED!\n",
      "\n"
     ]
    },
    {
     "name": "stderr",
     "output_type": "stream",
     "text": [
      "\r",
      " 40%|████      | 58/144 [00:37<01:25,  1.00it/s]"
     ]
    },
    {
     "name": "stdout",
     "output_type": "stream",
     "text": [
      "ERROR OCCURRED... ANS NOT UPDATED!\n",
      "\n",
      "ERROR OCCURRED... ANS NOT UPDATED!\n",
      "\n"
     ]
    },
    {
     "name": "stderr",
     "output_type": "stream",
     "text": [
      "\r",
      " 41%|████      | 59/144 [00:37<01:05,  1.30it/s]"
     ]
    },
    {
     "name": "stdout",
     "output_type": "stream",
     "text": [
      "ERROR OCCURRED... ANS NOT UPDATED!\n",
      "\n",
      "ERROR OCCURRED... ANS NOT UPDATED!\n",
      "\n"
     ]
    },
    {
     "name": "stderr",
     "output_type": "stream",
     "text": [
      "\r",
      " 42%|████▏     | 60/144 [00:38<01:20,  1.05it/s]"
     ]
    },
    {
     "name": "stdout",
     "output_type": "stream",
     "text": [
      "ERROR OCCURRED... ANS NOT UPDATED!\n",
      "\n",
      "ERROR OCCURRED... ANS NOT UPDATED!\n",
      "\n"
     ]
    },
    {
     "name": "stderr",
     "output_type": "stream",
     "text": [
      "\r",
      " 42%|████▏     | 61/144 [00:39<01:01,  1.36it/s]"
     ]
    },
    {
     "name": "stdout",
     "output_type": "stream",
     "text": [
      "ERROR OCCURRED... ANS NOT UPDATED!\n",
      "\n",
      "ERROR OCCURRED... ANS NOT UPDATED!\n",
      "\n"
     ]
    },
    {
     "name": "stderr",
     "output_type": "stream",
     "text": [
      "\r",
      " 43%|████▎     | 62/144 [00:40<01:08,  1.19it/s]"
     ]
    },
    {
     "name": "stdout",
     "output_type": "stream",
     "text": [
      "ERROR OCCURRED... ANS NOT UPDATED!\n",
      "\n",
      "ERROR OCCURRED... ANS NOT UPDATED!\n",
      "\n"
     ]
    },
    {
     "name": "stderr",
     "output_type": "stream",
     "text": [
      "\r",
      " 44%|████▍     | 63/144 [00:40<00:56,  1.43it/s]"
     ]
    },
    {
     "name": "stdout",
     "output_type": "stream",
     "text": [
      "ERROR OCCURRED... ANS NOT UPDATED!\n",
      "\n",
      "ERROR OCCURRED... ANS NOT UPDATED!\n",
      "\n"
     ]
    },
    {
     "name": "stderr",
     "output_type": "stream",
     "text": [
      " 45%|████▌     | 65/144 [00:44<01:31,  1.16s/it]"
     ]
    },
    {
     "name": "stdout",
     "output_type": "stream",
     "text": [
      "ERROR OCCURRED... ANS NOT UPDATED!\n",
      "\n",
      "ERROR OCCURRED... ANS NOT UPDATED!\n",
      "\n",
      "ERROR OCCURRED... ANS NOT UPDATED!\n",
      "\n",
      "ERROR OCCURRED... ANS NOT UPDATED!\n",
      "\n"
     ]
    },
    {
     "name": "stderr",
     "output_type": "stream",
     "text": [
      "\r",
      " 46%|████▌     | 66/144 [00:46<01:44,  1.34s/it]"
     ]
    },
    {
     "name": "stdout",
     "output_type": "stream",
     "text": [
      "ERROR OCCURRED... ANS NOT UPDATED!\n",
      "\n",
      "ERROR OCCURRED... ANS NOT UPDATED!\n",
      "\n"
     ]
    },
    {
     "name": "stderr",
     "output_type": "stream",
     "text": [
      "\r",
      " 47%|████▋     | 67/144 [00:46<01:19,  1.03s/it]"
     ]
    },
    {
     "name": "stdout",
     "output_type": "stream",
     "text": [
      "ERROR OCCURRED... ANS NOT UPDATED!\n",
      "\n",
      "ERROR OCCURRED... ANS NOT UPDATED!\n",
      "\n"
     ]
    },
    {
     "name": "stderr",
     "output_type": "stream",
     "text": [
      " 48%|████▊     | 69/144 [00:49<01:19,  1.06s/it]"
     ]
    },
    {
     "name": "stdout",
     "output_type": "stream",
     "text": [
      "ERROR OCCURRED... ANS NOT UPDATED!\n",
      "\n",
      "ERROR OCCURRED... ANS NOT UPDATED!\n",
      "\n",
      "ERROR OCCURRED... ANS NOT UPDATED!\n",
      "\n",
      "ERROR OCCURRED... ANS NOT UPDATED!\n",
      "\n"
     ]
    },
    {
     "name": "stderr",
     "output_type": "stream",
     "text": [
      "\r",
      " 49%|████▊     | 70/144 [00:50<01:22,  1.11s/it]"
     ]
    },
    {
     "name": "stdout",
     "output_type": "stream",
     "text": [
      "ERROR OCCURRED... ANS NOT UPDATED!\n",
      "\n",
      "ERROR OCCURRED... ANS NOT UPDATED!\n",
      "\n"
     ]
    },
    {
     "name": "stderr",
     "output_type": "stream",
     "text": [
      "\r",
      " 49%|████▉     | 71/144 [00:50<01:05,  1.11it/s]"
     ]
    },
    {
     "name": "stdout",
     "output_type": "stream",
     "text": [
      "ERROR OCCURRED... ANS NOT UPDATED!\n",
      "\n",
      "ERROR OCCURRED... ANS NOT UPDATED!\n",
      "\n"
     ]
    },
    {
     "name": "stderr",
     "output_type": "stream",
     "text": [
      " 51%|█████     | 73/144 [00:53<01:08,  1.03it/s]"
     ]
    },
    {
     "name": "stdout",
     "output_type": "stream",
     "text": [
      "ERROR OCCURRED... ANS NOT UPDATED!\n",
      "\n",
      "ERROR OCCURRED... ANS NOT UPDATED!\n",
      "\n",
      "ERROR OCCURRED... ANS NOT UPDATED!\n",
      "\n",
      "ERROR OCCURRED... ANS NOT UPDATED!\n",
      "\n"
     ]
    },
    {
     "name": "stderr",
     "output_type": "stream",
     "text": [
      "\r",
      " 51%|█████▏    | 74/144 [00:54<01:15,  1.08s/it]"
     ]
    },
    {
     "name": "stdout",
     "output_type": "stream",
     "text": [
      "ERROR OCCURRED... ANS NOT UPDATED!\n",
      "\n",
      "ERROR OCCURRED... ANS NOT UPDATED!\n",
      "\n"
     ]
    },
    {
     "name": "stderr",
     "output_type": "stream",
     "text": [
      "\r",
      " 52%|█████▏    | 75/144 [00:54<00:58,  1.18it/s]"
     ]
    },
    {
     "name": "stdout",
     "output_type": "stream",
     "text": [
      "ERROR OCCURRED... ANS NOT UPDATED!\n",
      "\n",
      "ERROR OCCURRED... ANS NOT UPDATED!\n",
      "\n"
     ]
    },
    {
     "name": "stderr",
     "output_type": "stream",
     "text": [
      " 53%|█████▎    | 77/144 [00:56<00:52,  1.27it/s]"
     ]
    },
    {
     "name": "stdout",
     "output_type": "stream",
     "text": [
      "ERROR OCCURRED... ANS NOT UPDATED!\n",
      "\n",
      "ERROR OCCURRED... ANS NOT UPDATED!\n",
      "\n",
      "ERROR OCCURRED... ANS NOT UPDATED!\n",
      "\n",
      "ERROR OCCURRED... ANS NOT UPDATED!\n",
      "\n"
     ]
    },
    {
     "name": "stderr",
     "output_type": "stream",
     "text": [
      "\r",
      " 54%|█████▍    | 78/144 [00:57<00:55,  1.20it/s]"
     ]
    },
    {
     "name": "stdout",
     "output_type": "stream",
     "text": [
      "ERROR OCCURRED... ANS NOT UPDATED!\n",
      "\n",
      "ERROR OCCURRED... ANS NOT UPDATED!\n",
      "\n"
     ]
    },
    {
     "name": "stderr",
     "output_type": "stream",
     "text": [
      "\r",
      " 55%|█████▍    | 79/144 [00:57<00:42,  1.54it/s]"
     ]
    },
    {
     "name": "stdout",
     "output_type": "stream",
     "text": [
      "ERROR OCCURRED... ANS NOT UPDATED!\n",
      "\n",
      "ERROR OCCURRED... ANS NOT UPDATED!\n",
      "\n"
     ]
    },
    {
     "name": "stderr",
     "output_type": "stream",
     "text": [
      " 56%|█████▋    | 81/144 [00:59<00:45,  1.40it/s]"
     ]
    },
    {
     "name": "stdout",
     "output_type": "stream",
     "text": [
      "ERROR OCCURRED... ANS NOT UPDATED!\n",
      "\n",
      "ERROR OCCURRED... ANS NOT UPDATED!\n",
      "\n",
      "ERROR OCCURRED... ANS NOT UPDATED!\n",
      "\n",
      "ERROR OCCURRED... ANS NOT UPDATED!\n",
      "\n"
     ]
    },
    {
     "name": "stderr",
     "output_type": "stream",
     "text": [
      "\r",
      " 57%|█████▋    | 82/144 [01:00<00:51,  1.21it/s]"
     ]
    },
    {
     "name": "stdout",
     "output_type": "stream",
     "text": [
      "ERROR OCCURRED... ANS NOT UPDATED!\n",
      "\n",
      "ERROR OCCURRED... ANS NOT UPDATED!\n",
      "\n"
     ]
    },
    {
     "name": "stderr",
     "output_type": "stream",
     "text": [
      "\r",
      " 58%|█████▊    | 83/144 [01:00<00:39,  1.55it/s]"
     ]
    },
    {
     "name": "stdout",
     "output_type": "stream",
     "text": [
      "ERROR OCCURRED... ANS NOT UPDATED!\n",
      "\n",
      "ERROR OCCURRED... ANS NOT UPDATED!\n",
      "\n"
     ]
    },
    {
     "name": "stderr",
     "output_type": "stream",
     "text": [
      "\r",
      " 58%|█████▊    | 84/144 [01:02<00:56,  1.06it/s]"
     ]
    },
    {
     "name": "stdout",
     "output_type": "stream",
     "text": [
      "ERROR OCCURRED... ANS NOT UPDATED!\n",
      "\n",
      "ERROR OCCURRED... ANS NOT UPDATED!\n",
      "\n"
     ]
    },
    {
     "name": "stderr",
     "output_type": "stream",
     "text": [
      "\r",
      " 59%|█████▉    | 85/144 [01:02<00:42,  1.38it/s]"
     ]
    },
    {
     "name": "stdout",
     "output_type": "stream",
     "text": [
      "ERROR OCCURRED... ANS NOT UPDATED!\n",
      "\n",
      "ERROR OCCURRED... ANS NOT UPDATED!\n",
      "\n"
     ]
    },
    {
     "name": "stderr",
     "output_type": "stream",
     "text": [
      "\r",
      " 60%|█████▉    | 86/144 [01:04<00:59,  1.03s/it]"
     ]
    },
    {
     "name": "stdout",
     "output_type": "stream",
     "text": [
      "ERROR OCCURRED... ANS NOT UPDATED!\n",
      "\n"
     ]
    },
    {
     "name": "stderr",
     "output_type": "stream",
     "text": [
      "\r",
      " 60%|██████    | 87/144 [01:04<00:47,  1.21it/s]"
     ]
    },
    {
     "name": "stdout",
     "output_type": "stream",
     "text": [
      "ERROR OCCURRED... ANS NOT UPDATED!\n",
      "\n",
      "ERROR OCCURRED... ANS NOT UPDATED!\n",
      "\n",
      "ERROR OCCURRED... ANS NOT UPDATED!\n",
      "\n"
     ]
    },
    {
     "name": "stderr",
     "output_type": "stream",
     "text": [
      " 62%|██████▏   | 89/144 [01:06<00:47,  1.16it/s]"
     ]
    },
    {
     "name": "stdout",
     "output_type": "stream",
     "text": [
      "ERROR OCCURRED... ANS NOT UPDATED!\n",
      "\n",
      "ERROR OCCURRED... ANS NOT UPDATED!\n",
      "\n",
      "ERROR OCCURRED... ANS NOT UPDATED!\n",
      "\n",
      "ERROR OCCURRED... ANS NOT UPDATED!\n",
      "\n"
     ]
    },
    {
     "name": "stderr",
     "output_type": "stream",
     "text": [
      "\r",
      " 62%|██████▎   | 90/144 [01:08<00:56,  1.05s/it]"
     ]
    },
    {
     "name": "stdout",
     "output_type": "stream",
     "text": [
      "ERROR OCCURRED... ANS NOT UPDATED!\n",
      "\n",
      "ERROR OCCURRED... ANS NOT UPDATED!\n",
      "\n"
     ]
    },
    {
     "name": "stderr",
     "output_type": "stream",
     "text": [
      "\r",
      " 63%|██████▎   | 91/144 [01:08<00:43,  1.21it/s]"
     ]
    },
    {
     "name": "stdout",
     "output_type": "stream",
     "text": [
      "ERROR OCCURRED... ANS NOT UPDATED!\n",
      "\n",
      "ERROR OCCURRED... ANS NOT UPDATED!\n",
      "\n"
     ]
    },
    {
     "name": "stderr",
     "output_type": "stream",
     "text": [
      " 65%|██████▍   | 93/144 [01:10<00:41,  1.24it/s]"
     ]
    },
    {
     "name": "stdout",
     "output_type": "stream",
     "text": [
      "ERROR OCCURRED... ANS NOT UPDATED!\n",
      "\n",
      "ERROR OCCURRED... ANS NOT UPDATED!\n",
      "\n",
      "ERROR OCCURRED... ANS NOT UPDATED!\n",
      "\n",
      "ERROR OCCURRED... ANS NOT UPDATED!\n",
      "\n"
     ]
    },
    {
     "name": "stderr",
     "output_type": "stream",
     "text": [
      "\r",
      " 65%|██████▌   | 94/144 [01:11<00:46,  1.08it/s]"
     ]
    },
    {
     "name": "stdout",
     "output_type": "stream",
     "text": [
      "ERROR OCCURRED... ANS NOT UPDATED!\n",
      "\n",
      "ERROR OCCURRED... ANS NOT UPDATED!\n",
      "\n"
     ]
    },
    {
     "name": "stderr",
     "output_type": "stream",
     "text": [
      "\r",
      " 66%|██████▌   | 95/144 [01:11<00:35,  1.38it/s]"
     ]
    },
    {
     "name": "stdout",
     "output_type": "stream",
     "text": [
      "ERROR OCCURRED... ANS NOT UPDATED!\n",
      "\n",
      "ERROR OCCURRED... ANS NOT UPDATED!\n",
      "\n"
     ]
    },
    {
     "name": "stderr",
     "output_type": "stream",
     "text": [
      "\r",
      " 67%|██████▋   | 96/144 [01:13<00:53,  1.11s/it]"
     ]
    },
    {
     "name": "stdout",
     "output_type": "stream",
     "text": [
      "ERROR OCCURRED... ANS NOT UPDATED!\n",
      "\n",
      "ERROR OCCURRED... ANS NOT UPDATED!\n",
      "\n"
     ]
    },
    {
     "name": "stderr",
     "output_type": "stream",
     "text": [
      "\r",
      " 67%|██████▋   | 97/144 [01:14<00:39,  1.19it/s]"
     ]
    },
    {
     "name": "stdout",
     "output_type": "stream",
     "text": [
      "ERROR OCCURRED... ANS NOT UPDATED!\n",
      "\n",
      "ERROR OCCURRED... ANS NOT UPDATED!\n",
      "\n"
     ]
    },
    {
     "name": "stderr",
     "output_type": "stream",
     "text": [
      "\r",
      " 68%|██████▊   | 98/144 [01:15<00:44,  1.03it/s]"
     ]
    },
    {
     "name": "stdout",
     "output_type": "stream",
     "text": [
      "ERROR OCCURRED... ANS NOT UPDATED!\n",
      "\n",
      "ERROR OCCURRED... ANS NOT UPDATED!\n",
      "\n"
     ]
    },
    {
     "name": "stderr",
     "output_type": "stream",
     "text": [
      "\r",
      " 69%|██████▉   | 99/144 [01:15<00:33,  1.33it/s]"
     ]
    },
    {
     "name": "stdout",
     "output_type": "stream",
     "text": [
      "ERROR OCCURRED... ANS NOT UPDATED!\n",
      "\n",
      "ERROR OCCURRED... ANS NOT UPDATED!\n",
      "\n"
     ]
    },
    {
     "name": "stderr",
     "output_type": "stream",
     "text": [
      "\r",
      " 69%|██████▉   | 100/144 [01:17<00:49,  1.11s/it]"
     ]
    },
    {
     "name": "stdout",
     "output_type": "stream",
     "text": [
      "ERROR OCCURRED... ANS NOT UPDATED!\n",
      "\n",
      "ERROR OCCURRED... ANS NOT UPDATED!\n",
      "\n"
     ]
    },
    {
     "name": "stderr",
     "output_type": "stream",
     "text": [
      "\r",
      " 70%|███████   | 101/144 [01:17<00:36,  1.18it/s]"
     ]
    },
    {
     "name": "stdout",
     "output_type": "stream",
     "text": [
      "ERROR OCCURRED... ANS NOT UPDATED!\n",
      "\n",
      "ERROR OCCURRED... ANS NOT UPDATED!\n",
      "\n"
     ]
    },
    {
     "name": "stderr",
     "output_type": "stream",
     "text": [
      "\r",
      " 71%|███████   | 102/144 [01:19<00:41,  1.00it/s]"
     ]
    },
    {
     "name": "stdout",
     "output_type": "stream",
     "text": [
      "ERROR OCCURRED... ANS NOT UPDATED!\n",
      "\n",
      "ERROR OCCURRED... ANS NOT UPDATED!\n",
      "\n"
     ]
    },
    {
     "name": "stderr",
     "output_type": "stream",
     "text": [
      "\r",
      " 72%|███████▏  | 103/144 [01:19<00:32,  1.28it/s]"
     ]
    },
    {
     "name": "stdout",
     "output_type": "stream",
     "text": [
      "ERROR OCCURRED... ANS NOT UPDATED!\n",
      "\n",
      "ERROR OCCURRED... ANS NOT UPDATED!\n",
      "\n"
     ]
    },
    {
     "name": "stderr",
     "output_type": "stream",
     "text": [
      "\r",
      " 72%|███████▏  | 104/144 [01:21<00:41,  1.04s/it]"
     ]
    },
    {
     "name": "stdout",
     "output_type": "stream",
     "text": [
      "ERROR OCCURRED... ANS NOT UPDATED!\n",
      "\n",
      "ERROR OCCURRED... ANS NOT UPDATED!\n",
      "\n"
     ]
    },
    {
     "name": "stderr",
     "output_type": "stream",
     "text": [
      "\r",
      " 73%|███████▎  | 105/144 [01:21<00:31,  1.24it/s]"
     ]
    },
    {
     "name": "stdout",
     "output_type": "stream",
     "text": [
      "ERROR OCCURRED... ANS NOT UPDATED!\n",
      "\n",
      "ERROR OCCURRED... ANS NOT UPDATED!\n",
      "\n"
     ]
    },
    {
     "name": "stderr",
     "output_type": "stream",
     "text": [
      "\r",
      " 74%|███████▎  | 106/144 [01:23<00:44,  1.17s/it]"
     ]
    },
    {
     "name": "stdout",
     "output_type": "stream",
     "text": [
      "ERROR OCCURRED... ANS NOT UPDATED!\n",
      "\n"
     ]
    },
    {
     "name": "stderr",
     "output_type": "stream",
     "text": [
      "\r",
      " 74%|███████▍  | 107/144 [01:23<00:33,  1.11it/s]"
     ]
    },
    {
     "name": "stdout",
     "output_type": "stream",
     "text": [
      "ERROR OCCURRED... ANS NOT UPDATED!\n",
      "\n",
      "ERROR OCCURRED... ANS NOT UPDATED!\n",
      "\n",
      "ERROR OCCURRED... ANS NOT UPDATED!\n",
      "\n"
     ]
    },
    {
     "name": "stderr",
     "output_type": "stream",
     "text": [
      "\r",
      " 75%|███████▌  | 108/144 [01:26<00:49,  1.36s/it]"
     ]
    },
    {
     "name": "stdout",
     "output_type": "stream",
     "text": [
      "ERROR OCCURRED... ANS NOT UPDATED!\n",
      "\n"
     ]
    },
    {
     "name": "stderr",
     "output_type": "stream",
     "text": [
      "\r",
      " 76%|███████▌  | 109/144 [01:26<00:38,  1.09s/it]"
     ]
    },
    {
     "name": "stdout",
     "output_type": "stream",
     "text": [
      "ERROR OCCURRED... ANS NOT UPDATED!\n",
      "\n",
      "ERROR OCCURRED... ANS NOT UPDATED!\n",
      "\n",
      "ERROR OCCURRED... ANS NOT UPDATED!\n",
      "\n"
     ]
    },
    {
     "name": "stderr",
     "output_type": "stream",
     "text": [
      "\r",
      " 76%|███████▋  | 110/144 [01:28<00:48,  1.42s/it]"
     ]
    },
    {
     "name": "stdout",
     "output_type": "stream",
     "text": [
      "ERROR OCCURRED... ANS NOT UPDATED!\n",
      "\n"
     ]
    },
    {
     "name": "stderr",
     "output_type": "stream",
     "text": [
      "\r",
      " 77%|███████▋  | 111/144 [01:29<00:36,  1.11s/it]"
     ]
    },
    {
     "name": "stdout",
     "output_type": "stream",
     "text": [
      "ERROR OCCURRED... ANS NOT UPDATED!\n",
      "\n",
      "ERROR OCCURRED... ANS NOT UPDATED!\n",
      "\n",
      "ERROR OCCURRED... ANS NOT UPDATED!\n",
      "\n"
     ]
    },
    {
     "name": "stderr",
     "output_type": "stream",
     "text": [
      "\r",
      " 78%|███████▊  | 112/144 [01:31<00:49,  1.54s/it]"
     ]
    },
    {
     "name": "stdout",
     "output_type": "stream",
     "text": [
      "ERROR OCCURRED... ANS NOT UPDATED!\n",
      "\n",
      "ERROR OCCURRED... ANS NOT UPDATED!\n",
      "\n"
     ]
    },
    {
     "name": "stderr",
     "output_type": "stream",
     "text": [
      "\r",
      " 78%|███████▊  | 113/144 [01:31<00:35,  1.15s/it]"
     ]
    },
    {
     "name": "stdout",
     "output_type": "stream",
     "text": [
      "ERROR OCCURRED... ANS NOT UPDATED!\n",
      "\n",
      "ERROR OCCURRED... ANS NOT UPDATED!\n",
      "\n"
     ]
    },
    {
     "name": "stderr",
     "output_type": "stream",
     "text": [
      " 80%|███████▉  | 115/144 [01:34<00:29,  1.03s/it]"
     ]
    },
    {
     "name": "stdout",
     "output_type": "stream",
     "text": [
      "ERROR OCCURRED... ANS NOT UPDATED!\n",
      "\n",
      "ERROR OCCURRED... ANS NOT UPDATED!\n",
      "\n",
      "ERROR OCCURRED... ANS NOT UPDATED!\n",
      "\n",
      "ERROR OCCURRED... ANS NOT UPDATED!\n",
      "\n"
     ]
    },
    {
     "name": "stderr",
     "output_type": "stream",
     "text": [
      "\r",
      " 81%|████████  | 116/144 [01:36<00:41,  1.49s/it]"
     ]
    },
    {
     "name": "stdout",
     "output_type": "stream",
     "text": [
      "ERROR OCCURRED... ANS NOT UPDATED!\n",
      "\n"
     ]
    },
    {
     "name": "stderr",
     "output_type": "stream",
     "text": [
      "\r",
      " 81%|████████▏ | 117/144 [01:37<00:31,  1.16s/it]"
     ]
    },
    {
     "name": "stdout",
     "output_type": "stream",
     "text": [
      "ERROR OCCURRED... ANS NOT UPDATED!\n",
      "\n",
      "ERROR OCCURRED... ANS NOT UPDATED!\n",
      "\n",
      "ERROR OCCURRED... ANS NOT UPDATED!\n",
      "\n"
     ]
    },
    {
     "name": "stderr",
     "output_type": "stream",
     "text": [
      "\r",
      " 82%|████████▏ | 118/144 [01:39<00:40,  1.56s/it]"
     ]
    },
    {
     "name": "stdout",
     "output_type": "stream",
     "text": [
      "ERROR OCCURRED... ANS NOT UPDATED!\n",
      "\n",
      "ERROR OCCURRED... ANS NOT UPDATED!\n",
      "\n"
     ]
    },
    {
     "name": "stderr",
     "output_type": "stream",
     "text": [
      "\r",
      " 83%|████████▎ | 119/144 [01:40<00:31,  1.26s/it]"
     ]
    },
    {
     "name": "stdout",
     "output_type": "stream",
     "text": [
      "ERROR OCCURRED... ANS NOT UPDATED!\n",
      "\n",
      "ERROR OCCURRED... ANS NOT UPDATED!\n",
      "\n"
     ]
    },
    {
     "name": "stderr",
     "output_type": "stream",
     "text": [
      "\r",
      " 83%|████████▎ | 120/144 [01:42<00:38,  1.60s/it]"
     ]
    },
    {
     "name": "stdout",
     "output_type": "stream",
     "text": [
      "ERROR OCCURRED... ANS NOT UPDATED!\n",
      "\n"
     ]
    },
    {
     "name": "stderr",
     "output_type": "stream",
     "text": [
      "\r",
      " 84%|████████▍ | 121/144 [01:42<00:27,  1.22s/it]"
     ]
    },
    {
     "name": "stdout",
     "output_type": "stream",
     "text": [
      "ERROR OCCURRED... ANS NOT UPDATED!\n",
      "\n",
      "ERROR OCCURRED... ANS NOT UPDATED!\n",
      "\n",
      "ERROR OCCURRED... ANS NOT UPDATED!\n",
      "\n"
     ]
    },
    {
     "name": "stderr",
     "output_type": "stream",
     "text": [
      "\r",
      " 85%|████████▍ | 122/144 [01:44<00:27,  1.23s/it]"
     ]
    },
    {
     "name": "stdout",
     "output_type": "stream",
     "text": [
      "ERROR OCCURRED... ANS NOT UPDATED!\n",
      "\n"
     ]
    },
    {
     "name": "stderr",
     "output_type": "stream",
     "text": [
      "\r",
      " 85%|████████▌ | 123/144 [01:44<00:20,  1.03it/s]"
     ]
    },
    {
     "name": "stdout",
     "output_type": "stream",
     "text": [
      "ERROR OCCURRED... ANS NOT UPDATED!\n",
      "\n",
      "ERROR OCCURRED... ANS NOT UPDATED!\n",
      "\n",
      "ERROR OCCURRED... ANS NOT UPDATED!\n",
      "\n"
     ]
    },
    {
     "name": "stderr",
     "output_type": "stream",
     "text": [
      "\r",
      " 86%|████████▌ | 124/144 [01:46<00:25,  1.29s/it]"
     ]
    },
    {
     "name": "stdout",
     "output_type": "stream",
     "text": [
      "ERROR OCCURRED... ANS NOT UPDATED!\n",
      "\n",
      "ERROR OCCURRED... ANS NOT UPDATED!\n",
      "\n"
     ]
    },
    {
     "name": "stderr",
     "output_type": "stream",
     "text": [
      "\r",
      " 87%|████████▋ | 125/144 [01:46<00:20,  1.07s/it]"
     ]
    },
    {
     "name": "stdout",
     "output_type": "stream",
     "text": [
      "ERROR OCCURRED... ANS NOT UPDATED!\n",
      "\n",
      "ERROR OCCURRED... ANS NOT UPDATED!\n",
      "\n"
     ]
    },
    {
     "name": "stderr",
     "output_type": "stream",
     "text": [
      "\r",
      " 88%|████████▊ | 126/144 [01:48<00:23,  1.30s/it]"
     ]
    },
    {
     "name": "stdout",
     "output_type": "stream",
     "text": [
      "ERROR OCCURRED... ANS NOT UPDATED!\n",
      "\n"
     ]
    },
    {
     "name": "stderr",
     "output_type": "stream",
     "text": [
      "\r",
      " 88%|████████▊ | 127/144 [01:49<00:17,  1.03s/it]"
     ]
    },
    {
     "name": "stdout",
     "output_type": "stream",
     "text": [
      "ERROR OCCURRED... ANS NOT UPDATED!\n",
      "\n",
      "ERROR OCCURRED... ANS NOT UPDATED!\n",
      "\n",
      "ERROR OCCURRED... ANS NOT UPDATED!\n",
      "\n"
     ]
    },
    {
     "name": "stderr",
     "output_type": "stream",
     "text": [
      "\r",
      " 89%|████████▉ | 128/144 [01:51<00:24,  1.51s/it]"
     ]
    },
    {
     "name": "stdout",
     "output_type": "stream",
     "text": [
      "ERROR OCCURRED... ANS NOT UPDATED!\n",
      "\n",
      "ERROR OCCURRED... ANS NOT UPDATED!\n",
      "\n"
     ]
    },
    {
     "name": "stderr",
     "output_type": "stream",
     "text": [
      "\r",
      " 90%|████████▉ | 129/144 [01:52<00:17,  1.14s/it]"
     ]
    },
    {
     "name": "stdout",
     "output_type": "stream",
     "text": [
      "ERROR OCCURRED... ANS NOT UPDATED!\n",
      "\n",
      "ERROR OCCURRED... ANS NOT UPDATED!\n",
      "\n"
     ]
    },
    {
     "name": "stderr",
     "output_type": "stream",
     "text": [
      "\r",
      " 90%|█████████ | 130/144 [01:54<00:22,  1.59s/it]"
     ]
    },
    {
     "name": "stdout",
     "output_type": "stream",
     "text": [
      "ERROR OCCURRED... ANS NOT UPDATED!\n",
      "\n"
     ]
    },
    {
     "name": "stderr",
     "output_type": "stream",
     "text": [
      "\r",
      " 91%|█████████ | 131/144 [01:55<00:15,  1.23s/it]"
     ]
    },
    {
     "name": "stdout",
     "output_type": "stream",
     "text": [
      "ERROR OCCURRED... ANS NOT UPDATED!\n",
      "\n",
      "ERROR OCCURRED... ANS NOT UPDATED!\n",
      "\n",
      "ERROR OCCURRED... ANS NOT UPDATED!\n",
      "\n"
     ]
    },
    {
     "name": "stderr",
     "output_type": "stream",
     "text": [
      "\r",
      " 92%|█████████▏| 132/144 [01:57<00:17,  1.42s/it]"
     ]
    },
    {
     "name": "stdout",
     "output_type": "stream",
     "text": [
      "ERROR OCCURRED... ANS NOT UPDATED!\n",
      "\n",
      "ERROR OCCURRED... ANS NOT UPDATED!\n",
      "\n"
     ]
    },
    {
     "name": "stderr",
     "output_type": "stream",
     "text": [
      "\r",
      " 92%|█████████▏| 133/144 [01:57<00:11,  1.07s/it]"
     ]
    },
    {
     "name": "stdout",
     "output_type": "stream",
     "text": [
      "ERROR OCCURRED... ANS NOT UPDATED!\n",
      "\n",
      "ERROR OCCURRED... ANS NOT UPDATED!\n",
      "\n"
     ]
    },
    {
     "name": "stderr",
     "output_type": "stream",
     "text": [
      "\r",
      " 93%|█████████▎| 134/144 [01:58<00:11,  1.16s/it]"
     ]
    },
    {
     "name": "stdout",
     "output_type": "stream",
     "text": [
      "ERROR OCCURRED... ANS NOT UPDATED!\n",
      "\n",
      "ERROR OCCURRED... ANS NOT UPDATED!\n",
      "\n"
     ]
    },
    {
     "name": "stderr",
     "output_type": "stream",
     "text": [
      "\r",
      " 94%|█████████▍| 135/144 [01:58<00:07,  1.14it/s]"
     ]
    },
    {
     "name": "stdout",
     "output_type": "stream",
     "text": [
      "ERROR OCCURRED... ANS NOT UPDATED!\n",
      "\n",
      "ERROR OCCURRED... ANS NOT UPDATED!\n",
      "\n"
     ]
    },
    {
     "name": "stderr",
     "output_type": "stream",
     "text": [
      "\r",
      " 94%|█████████▍| 136/144 [02:01<00:10,  1.25s/it]"
     ]
    },
    {
     "name": "stdout",
     "output_type": "stream",
     "text": [
      "ERROR OCCURRED... ANS NOT UPDATED!\n",
      "\n",
      "ERROR OCCURRED... ANS NOT UPDATED!\n",
      "\n"
     ]
    },
    {
     "name": "stderr",
     "output_type": "stream",
     "text": [
      "\r",
      " 95%|█████████▌| 137/144 [02:01<00:06,  1.05it/s]"
     ]
    },
    {
     "name": "stdout",
     "output_type": "stream",
     "text": [
      "ERROR OCCURRED... ANS NOT UPDATED!\n",
      "\n",
      "ERROR OCCURRED... ANS NOT UPDATED!\n",
      "\n"
     ]
    },
    {
     "name": "stderr",
     "output_type": "stream",
     "text": [
      "\r",
      " 96%|█████████▌| 138/144 [02:03<00:07,  1.26s/it]"
     ]
    },
    {
     "name": "stdout",
     "output_type": "stream",
     "text": [
      "ERROR OCCURRED... ANS NOT UPDATED!\n",
      "\n",
      "ERROR OCCURRED... ANS NOT UPDATED!\n",
      "\n"
     ]
    },
    {
     "name": "stderr",
     "output_type": "stream",
     "text": [
      "\r",
      " 97%|█████████▋| 139/144 [02:04<00:06,  1.33s/it]"
     ]
    },
    {
     "name": "stdout",
     "output_type": "stream",
     "text": [
      "ERROR OCCURRED... ANS NOT UPDATED!\n",
      "\n",
      "ERROR OCCURRED... ANS NOT UPDATED!\n",
      "\n"
     ]
    },
    {
     "name": "stderr",
     "output_type": "stream",
     "text": [
      "\r",
      " 97%|█████████▋| 140/144 [02:07<00:06,  1.65s/it]"
     ]
    },
    {
     "name": "stdout",
     "output_type": "stream",
     "text": [
      "ERROR OCCURRED... ANS NOT UPDATED!\n",
      "\n",
      "ERROR OCCURRED... ANS NOT UPDATED!\n",
      "\n"
     ]
    },
    {
     "name": "stderr",
     "output_type": "stream",
     "text": [
      "\r",
      " 98%|█████████▊| 141/144 [02:07<00:03,  1.23s/it]"
     ]
    },
    {
     "name": "stdout",
     "output_type": "stream",
     "text": [
      "ERROR OCCURRED... ANS NOT UPDATED!\n",
      "\n",
      "ERROR OCCURRED... ANS NOT UPDATED!\n",
      "\n"
     ]
    },
    {
     "name": "stderr",
     "output_type": "stream",
     "text": [
      "\r",
      " 99%|█████████▊| 142/144 [02:08<00:02,  1.28s/it]"
     ]
    },
    {
     "name": "stdout",
     "output_type": "stream",
     "text": [
      "ERROR OCCURRED... ANS NOT UPDATED!\n",
      "\n",
      "ERROR OCCURRED... ANS NOT UPDATED!\n",
      "\n"
     ]
    },
    {
     "name": "stderr",
     "output_type": "stream",
     "text": [
      "\r",
      " 99%|█████████▉| 143/144 [02:09<00:00,  1.03it/s]"
     ]
    },
    {
     "name": "stdout",
     "output_type": "stream",
     "text": [
      "ERROR OCCURRED... ANS NOT UPDATED!\n",
      "\n",
      "ERROR OCCURRED... ANS NOT UPDATED!\n",
      "\n"
     ]
    },
    {
     "name": "stderr",
     "output_type": "stream",
     "text": [
      "100%|██████████| 144/144 [02:10<00:00,  1.10it/s]"
     ]
    },
    {
     "name": "stdout",
     "output_type": "stream",
     "text": [
      "ERROR OCCURRED... ANS NOT UPDATED!\n",
      "\n"
     ]
    },
    {
     "name": "stderr",
     "output_type": "stream",
     "text": [
      "\n"
     ]
    }
   ],
   "source": [
    "variables = dict(n_components=list(range(4,16)), max_iter=[100, 250, 500], covariance_type=['spherical', 'tied', 'diag', 'full'])\n",
    "fixed_vars = dict(random_state=666)\n",
    "res = grid_search(GMM, data=data, tfidf=pca_tfidf, w2v=w2v, variables=variables, fixed_params=fixed_vars)"
   ]
  },
  {
   "cell_type": "code",
   "execution_count": 3,
   "id": "measured-bruce",
   "metadata": {},
   "outputs": [
    {
     "ename": "ValueError",
     "evalue": "s must be a scalar, or the same size as x and y",
     "output_type": "error",
     "traceback": [
      "\u001b[0;31m---------------------------------------------------------------------------\u001b[0m",
      "\u001b[0;31mValueError\u001b[0m                                Traceback (most recent call last)",
      "\u001b[0;32m<ipython-input-3-e6632528d874>\u001b[0m in \u001b[0;36m<module>\u001b[0;34m\u001b[0m\n\u001b[0;32m----> 1\u001b[0;31m get_res(gmm_res=return_clustered_csv_gmm(\n\u001b[0m\u001b[1;32m      2\u001b[0m     \u001b[0mdata\u001b[0m\u001b[0;34m,\u001b[0m\u001b[0;34m\u001b[0m\u001b[0;34m\u001b[0m\u001b[0m\n\u001b[1;32m      3\u001b[0m     \u001b[0mGMM\u001b[0m\u001b[0;34m,\u001b[0m\u001b[0;34m\u001b[0m\u001b[0;34m\u001b[0m\u001b[0m\n\u001b[1;32m      4\u001b[0m     \u001b[0mtfidf\u001b[0m\u001b[0;34m=\u001b[0m\u001b[0mpca_tfidf\u001b[0m\u001b[0;34m,\u001b[0m \u001b[0mw2v\u001b[0m\u001b[0;34m=\u001b[0m\u001b[0mw2v\u001b[0m\u001b[0;34m,\u001b[0m\u001b[0;34m\u001b[0m\u001b[0;34m\u001b[0m\u001b[0m\n\u001b[1;32m      5\u001b[0m     \u001b[0moptions\u001b[0m\u001b[0;34m=\u001b[0m\u001b[0mdict\u001b[0m\u001b[0;34m(\u001b[0m\u001b[0mn_components\u001b[0m\u001b[0;34m=\u001b[0m\u001b[0mlen\u001b[0m\u001b[0;34m(\u001b[0m\u001b[0mmajor_labels\u001b[0m\u001b[0;34m)\u001b[0m\u001b[0;34m,\u001b[0m \u001b[0mrandom_state\u001b[0m\u001b[0;34m=\u001b[0m\u001b[0;36m666\u001b[0m\u001b[0;34m)\u001b[0m\u001b[0;34m,\u001b[0m\u001b[0;34m\u001b[0m\u001b[0;34m\u001b[0m\u001b[0m\n",
      "\u001b[0;32m~/Desktop/CE40324-MIR/phase3/clustering.py\u001b[0m in \u001b[0;36mreturn_clustered_csv_gmm\u001b[0;34m(data, cluster_type, tfidf, w2v, options, options_tfidf, options_w2v, save)\u001b[0m\n\u001b[1;32m     78\u001b[0m                 ' (' + ','.join(f'{i}={j}' for i, j in args.items()) + ')'))\n\u001b[1;32m     79\u001b[0m         \u001b[0mresult\u001b[0m\u001b[0;34m[\u001b[0m\u001b[0;34m'tf-idf'\u001b[0m\u001b[0;34m]\u001b[0m\u001b[0;34m,\u001b[0m \u001b[0msizes\u001b[0m \u001b[0;34m=\u001b[0m \u001b[0mcluster_type\u001b[0m\u001b[0;34m(\u001b[0m\u001b[0mdata\u001b[0m\u001b[0;34m,\u001b[0m \u001b[0mtfidf\u001b[0m\u001b[0;34m,\u001b[0m \u001b[0;34m**\u001b[0m\u001b[0margs\u001b[0m\u001b[0;34m)\u001b[0m\u001b[0;34m\u001b[0m\u001b[0;34m\u001b[0m\u001b[0m\n\u001b[0;32m---> 80\u001b[0;31m         \u001b[0mplot2d\u001b[0m\u001b[0;34m(\u001b[0m\u001b[0mtfidf\u001b[0m\u001b[0;34m,\u001b[0m \u001b[0mresult\u001b[0m\u001b[0;34m[\u001b[0m\u001b[0;34m'tf-idf'\u001b[0m\u001b[0;34m]\u001b[0m\u001b[0;34m,\u001b[0m \u001b[0mtrue_labels\u001b[0m\u001b[0;34m=\u001b[0m\u001b[0mdata\u001b[0m\u001b[0;34m[\u001b[0m\u001b[0;34m'major_cls'\u001b[0m\u001b[0;34m]\u001b[0m\u001b[0;34m,\u001b[0m \u001b[0msizes\u001b[0m\u001b[0;34m=\u001b[0m\u001b[0msizes\u001b[0m\u001b[0;34m,\u001b[0m \u001b[0mtitle\u001b[0m\u001b[0;34m=\u001b[0m\u001b[0;34mf'{name} [tf-idf]'\u001b[0m\u001b[0;34m)\u001b[0m\u001b[0;34m\u001b[0m\u001b[0;34m\u001b[0m\u001b[0m\n\u001b[0m\u001b[1;32m     81\u001b[0m     \u001b[0;32mif\u001b[0m \u001b[0mw2v\u001b[0m \u001b[0;32mis\u001b[0m \u001b[0;32mnot\u001b[0m \u001b[0;32mNone\u001b[0m\u001b[0;34m:\u001b[0m\u001b[0;34m\u001b[0m\u001b[0;34m\u001b[0m\u001b[0m\n\u001b[1;32m     82\u001b[0m         \u001b[0margs\u001b[0m \u001b[0;34m=\u001b[0m \u001b[0;34m{\u001b[0m\u001b[0;34m**\u001b[0m\u001b[0moptions\u001b[0m\u001b[0;34m,\u001b[0m \u001b[0;34m**\u001b[0m\u001b[0moptions_w2v\u001b[0m\u001b[0;34m}\u001b[0m\u001b[0;34m\u001b[0m\u001b[0;34m\u001b[0m\u001b[0m\n",
      "\u001b[0;32m~/Desktop/CE40324-MIR/phase3/clustering.py\u001b[0m in \u001b[0;36mplot2d\u001b[0;34m(vectors, labels, true_labels, sizes, title)\u001b[0m\n\u001b[1;32m    156\u001b[0m     \u001b[0;32mif\u001b[0m \u001b[0mtrue_labels\u001b[0m \u001b[0;32mis\u001b[0m \u001b[0;32mnot\u001b[0m \u001b[0;32mNone\u001b[0m\u001b[0;34m:\u001b[0m\u001b[0;34m\u001b[0m\u001b[0;34m\u001b[0m\u001b[0m\n\u001b[1;32m    157\u001b[0m         \u001b[0mfig\u001b[0m\u001b[0;34m,\u001b[0m \u001b[0maxes\u001b[0m \u001b[0;34m=\u001b[0m \u001b[0mplt\u001b[0m\u001b[0;34m.\u001b[0m\u001b[0msubplots\u001b[0m\u001b[0;34m(\u001b[0m\u001b[0;36m1\u001b[0m\u001b[0;34m,\u001b[0m \u001b[0;36m4\u001b[0m\u001b[0;34m,\u001b[0m \u001b[0mfigsize\u001b[0m\u001b[0;34m=\u001b[0m\u001b[0;34m(\u001b[0m\u001b[0;36m26\u001b[0m\u001b[0;34m,\u001b[0m \u001b[0;36m5\u001b[0m\u001b[0;34m)\u001b[0m\u001b[0;34m)\u001b[0m\u001b[0;34m\u001b[0m\u001b[0;34m\u001b[0m\u001b[0m\n\u001b[0;32m--> 158\u001b[0;31m         \u001b[0maxes\u001b[0m\u001b[0;34m[\u001b[0m\u001b[0;36m0\u001b[0m\u001b[0;34m]\u001b[0m\u001b[0;34m.\u001b[0m\u001b[0mscatter\u001b[0m\u001b[0;34m(\u001b[0m\u001b[0mvector\u001b[0m\u001b[0;34m[\u001b[0m\u001b[0;34m:\u001b[0m\u001b[0;34m,\u001b[0m \u001b[0;36m0\u001b[0m\u001b[0;34m]\u001b[0m\u001b[0;34m,\u001b[0m \u001b[0mvector\u001b[0m\u001b[0;34m[\u001b[0m\u001b[0;34m:\u001b[0m\u001b[0;34m,\u001b[0m \u001b[0;36m1\u001b[0m\u001b[0;34m]\u001b[0m\u001b[0;34m,\u001b[0m \u001b[0mc\u001b[0m\u001b[0;34m=\u001b[0m\u001b[0mlabels\u001b[0m\u001b[0;34m,\u001b[0m \u001b[0ms\u001b[0m\u001b[0;34m=\u001b[0m\u001b[0msizes\u001b[0m\u001b[0;34m)\u001b[0m\u001b[0;34m\u001b[0m\u001b[0;34m\u001b[0m\u001b[0m\n\u001b[0m\u001b[1;32m    159\u001b[0m         \u001b[0maxes\u001b[0m\u001b[0;34m[\u001b[0m\u001b[0;36m0\u001b[0m\u001b[0;34m]\u001b[0m\u001b[0;34m.\u001b[0m\u001b[0mset_title\u001b[0m\u001b[0;34m(\u001b[0m\u001b[0;34m'Pred PCA'\u001b[0m\u001b[0;34m)\u001b[0m\u001b[0;34m\u001b[0m\u001b[0;34m\u001b[0m\u001b[0m\n\u001b[1;32m    160\u001b[0m \u001b[0;34m\u001b[0m\u001b[0m\n",
      "\u001b[0;32m/usr/local/Cellar/jupyterlab/3.0.7/libexec/lib/python3.9/site-packages/matplotlib/__init__.py\u001b[0m in \u001b[0;36minner\u001b[0;34m(ax, data, *args, **kwargs)\u001b[0m\n\u001b[1;32m   1445\u001b[0m     \u001b[0;32mdef\u001b[0m \u001b[0minner\u001b[0m\u001b[0;34m(\u001b[0m\u001b[0max\u001b[0m\u001b[0;34m,\u001b[0m \u001b[0;34m*\u001b[0m\u001b[0margs\u001b[0m\u001b[0;34m,\u001b[0m \u001b[0mdata\u001b[0m\u001b[0;34m=\u001b[0m\u001b[0;32mNone\u001b[0m\u001b[0;34m,\u001b[0m \u001b[0;34m**\u001b[0m\u001b[0mkwargs\u001b[0m\u001b[0;34m)\u001b[0m\u001b[0;34m:\u001b[0m\u001b[0;34m\u001b[0m\u001b[0;34m\u001b[0m\u001b[0m\n\u001b[1;32m   1446\u001b[0m         \u001b[0;32mif\u001b[0m \u001b[0mdata\u001b[0m \u001b[0;32mis\u001b[0m \u001b[0;32mNone\u001b[0m\u001b[0;34m:\u001b[0m\u001b[0;34m\u001b[0m\u001b[0;34m\u001b[0m\u001b[0m\n\u001b[0;32m-> 1447\u001b[0;31m             \u001b[0;32mreturn\u001b[0m \u001b[0mfunc\u001b[0m\u001b[0;34m(\u001b[0m\u001b[0max\u001b[0m\u001b[0;34m,\u001b[0m \u001b[0;34m*\u001b[0m\u001b[0mmap\u001b[0m\u001b[0;34m(\u001b[0m\u001b[0msanitize_sequence\u001b[0m\u001b[0;34m,\u001b[0m \u001b[0margs\u001b[0m\u001b[0;34m)\u001b[0m\u001b[0;34m,\u001b[0m \u001b[0;34m**\u001b[0m\u001b[0mkwargs\u001b[0m\u001b[0;34m)\u001b[0m\u001b[0;34m\u001b[0m\u001b[0;34m\u001b[0m\u001b[0m\n\u001b[0m\u001b[1;32m   1448\u001b[0m \u001b[0;34m\u001b[0m\u001b[0m\n\u001b[1;32m   1449\u001b[0m         \u001b[0mbound\u001b[0m \u001b[0;34m=\u001b[0m \u001b[0mnew_sig\u001b[0m\u001b[0;34m.\u001b[0m\u001b[0mbind\u001b[0m\u001b[0;34m(\u001b[0m\u001b[0max\u001b[0m\u001b[0;34m,\u001b[0m \u001b[0;34m*\u001b[0m\u001b[0margs\u001b[0m\u001b[0;34m,\u001b[0m \u001b[0;34m**\u001b[0m\u001b[0mkwargs\u001b[0m\u001b[0;34m)\u001b[0m\u001b[0;34m\u001b[0m\u001b[0;34m\u001b[0m\u001b[0m\n",
      "\u001b[0;32m/usr/local/Cellar/jupyterlab/3.0.7/libexec/lib/python3.9/site-packages/matplotlib/cbook/deprecation.py\u001b[0m in \u001b[0;36mwrapper\u001b[0;34m(*inner_args, **inner_kwargs)\u001b[0m\n\u001b[1;32m    409\u001b[0m                          \u001b[0;32melse\u001b[0m \u001b[0mdeprecation_addendum\u001b[0m\u001b[0;34m,\u001b[0m\u001b[0;34m\u001b[0m\u001b[0;34m\u001b[0m\u001b[0m\n\u001b[1;32m    410\u001b[0m                 **kwargs)\n\u001b[0;32m--> 411\u001b[0;31m         \u001b[0;32mreturn\u001b[0m \u001b[0mfunc\u001b[0m\u001b[0;34m(\u001b[0m\u001b[0;34m*\u001b[0m\u001b[0minner_args\u001b[0m\u001b[0;34m,\u001b[0m \u001b[0;34m**\u001b[0m\u001b[0minner_kwargs\u001b[0m\u001b[0;34m)\u001b[0m\u001b[0;34m\u001b[0m\u001b[0;34m\u001b[0m\u001b[0m\n\u001b[0m\u001b[1;32m    412\u001b[0m \u001b[0;34m\u001b[0m\u001b[0m\n\u001b[1;32m    413\u001b[0m     \u001b[0;32mreturn\u001b[0m \u001b[0mwrapper\u001b[0m\u001b[0;34m\u001b[0m\u001b[0;34m\u001b[0m\u001b[0m\n",
      "\u001b[0;32m/usr/local/Cellar/jupyterlab/3.0.7/libexec/lib/python3.9/site-packages/matplotlib/axes/_axes.py\u001b[0m in \u001b[0;36mscatter\u001b[0;34m(self, x, y, s, c, marker, cmap, norm, vmin, vmax, alpha, linewidths, verts, edgecolors, plotnonfinite, **kwargs)\u001b[0m\n\u001b[1;32m   4446\u001b[0m         \u001b[0ms\u001b[0m \u001b[0;34m=\u001b[0m \u001b[0mnp\u001b[0m\u001b[0;34m.\u001b[0m\u001b[0mma\u001b[0m\u001b[0;34m.\u001b[0m\u001b[0mravel\u001b[0m\u001b[0;34m(\u001b[0m\u001b[0ms\u001b[0m\u001b[0;34m)\u001b[0m\u001b[0;34m\u001b[0m\u001b[0;34m\u001b[0m\u001b[0m\n\u001b[1;32m   4447\u001b[0m         \u001b[0;32mif\u001b[0m \u001b[0mlen\u001b[0m\u001b[0;34m(\u001b[0m\u001b[0ms\u001b[0m\u001b[0;34m)\u001b[0m \u001b[0;32mnot\u001b[0m \u001b[0;32min\u001b[0m \u001b[0;34m(\u001b[0m\u001b[0;36m1\u001b[0m\u001b[0;34m,\u001b[0m \u001b[0mx\u001b[0m\u001b[0;34m.\u001b[0m\u001b[0msize\u001b[0m\u001b[0;34m)\u001b[0m\u001b[0;34m:\u001b[0m\u001b[0;34m\u001b[0m\u001b[0;34m\u001b[0m\u001b[0m\n\u001b[0;32m-> 4448\u001b[0;31m             \u001b[0;32mraise\u001b[0m \u001b[0mValueError\u001b[0m\u001b[0;34m(\u001b[0m\u001b[0;34m\"s must be a scalar, or the same size as x and y\"\u001b[0m\u001b[0;34m)\u001b[0m\u001b[0;34m\u001b[0m\u001b[0;34m\u001b[0m\u001b[0m\n\u001b[0m\u001b[1;32m   4449\u001b[0m \u001b[0;34m\u001b[0m\u001b[0m\n\u001b[1;32m   4450\u001b[0m         \u001b[0mc\u001b[0m\u001b[0;34m,\u001b[0m \u001b[0mcolors\u001b[0m\u001b[0;34m,\u001b[0m \u001b[0medgecolors\u001b[0m \u001b[0;34m=\u001b[0m\u001b[0;31m \u001b[0m\u001b[0;31m\\\u001b[0m\u001b[0;34m\u001b[0m\u001b[0;34m\u001b[0m\u001b[0m\n",
      "\u001b[0;31mValueError\u001b[0m: s must be a scalar, or the same size as x and y"
     ]
    },
    {
     "data": {
      "image/png": "[encoded data removed]",
      "text/plain": [
       "<Figure size 1872x360 with 4 Axes>"
      ]
     },
     "metadata": {},
     "output_type": "display_data"
    }
   ],
   "source": [
    "get_res(gmm_res=return_clustered_csv_gmm(\n",
    "    data, \n",
    "    GMM, \n",
    "    tfidf=pca_tfidf, w2v=w2v, \n",
    "    options=dict(n_components=len(major_labels), random_state=666), \n",
    "    options_tfidf=dict(covariance_type='full', max_iter=600),\n",
    "    options_w2v=dict(covariance_type='full', max_iter=600),\n",
    "    save=True), data=data)"
   ]
  },
  {
   "cell_type": "code",
   "execution_count": null,
   "id": "defined-hindu",
   "metadata": {},
   "outputs": [],
   "source": []
  }
 ],
 "metadata": {
  "kernelspec": {
   "display_name": "Python 3",
   "language": "python",
   "name": "python3"
  },
  "language_info": {
   "codemirror_mode": {
    "name": "ipython",
    "version": 3
   },
   "file_extension": ".py",
   "mimetype": "text/x-python",
   "name": "python",
   "nbconvert_exporter": "python",
   "pygments_lexer": "ipython3",
   "version": "3.9.1"
  }
 },
 "nbformat": 4,
 "nbformat_minor": 5
}
